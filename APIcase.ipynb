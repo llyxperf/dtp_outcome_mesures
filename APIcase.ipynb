{
 "cells": [
  {
   "cell_type": "code",
   "execution_count": 1,
   "id": "c10aea07",
   "metadata": {},
   "outputs": [],
   "source": [
    "direc=\"/home/qwe/Desktop/code/dtp_outcome_mesures/liveshow_case/client.log\""
   ]
  },
  {
   "cell_type": "markdown",
   "id": "43bdb6d2",
   "metadata": {},
   "source": [
    "# API用例说明\n",
    "## 对于data_process模块中每个API使用方法进行演示\n",
    "### 1.结果读写和解析\n",
    "### 2.配置读取和生成\n",
    "### 3.其他工具"
   ]
  },
  {
   "cell_type": "code",
   "execution_count": 29,
   "id": "b47b4472",
   "metadata": {},
   "outputs": [],
   "source": [
    "import sys\n",
    "sys.path.append('./dtp_outcome_mesures')\n",
    "import data_process.py"
   ]
  },
  {
   "cell_type": "code",
   "execution_count": 82,
   "id": "403cb46e",
   "metadata": {},
   "outputs": [],
   "source": [
    "MAX_BLOCK_SIZE = 1000000 # 1Mbytes\n",
    "tmp_dir_path='.'\n",
    "CLIENT_LOG_PATTERN = re.compile(r'connection closed\\nrecv=(-?\\d+) sent=(-?\\d+) lost=(-?\\d+) rtt=(?:(?:(\\d|.+)ms)|(?:(-1))) cwnd=(-?\\d+), total_bytes=(-?\\d+), complete_bytes=(-?\\d+), good_bytes=(-?\\d+), total_time=(-?\\d+)')\n",
    "CLIENT_STAT_INDEXES = [\"c_recv\", \"c_sent\", \"c_lost\", \"c_rtt(ms)\", \"c_cwnd\", \"c_total_bytes\", \"c_complete_bytes\", \"c_good_bytes\", \"c_total_time(us)\", \"qoe\", \"retry_times\"]\n",
    "CLIENT_BLOCKS_INDEXES = [\"BlockID\", \"bct\", \"BlockSize\", \"Priority\", \"Deadline\"]"
   ]
  },
  {
   "cell_type": "markdown",
   "id": "25dad0bc",
   "metadata": {},
   "source": [
    "## 结果读写和解析"
   ]
  },
  {
   "cell_type": "markdown",
   "id": "016e519d",
   "metadata": {},
   "source": [
    "## 画图"
   ]
  },
  {
   "cell_type": "code",
   "execution_count": 130,
   "id": "53e04bc6",
   "metadata": {},
   "outputs": [],
   "source": [
    "def drawGraph(axisX,axisYList,labelNameList,interval=0):\n",
    "    '''\n",
    "    axisX:list,usually time\n",
    "    axisYList:list[],each element is a type of axisY.\n",
    "    interval: used for live show\n",
    "    '''\n",
    "    \n",
    "    plt.clf()\n",
    "\n",
    "    plt.gca().yaxis.set_major_formatter(mticker.FormatStrFormatter('%.1f %%'))\n",
    "    plt.gca().xaxis.set_major_formatter(mticker.FormatStrFormatter('%.1fs'))\n",
    "    plt.xlabel('time')\n",
    "    plt.ylabel('rate')\n",
    "    plt.title('DTP live show')\n",
    "    for i in range(len(axisYList)):\n",
    "        plt.plot(axisX,axisYList[i],label=labelNameList[i])\n",
    "\n",
    "    plt.legend()\n",
    "    if interval !=0:\n",
    "        plt.pause(interval)"
   ]
  },
  {
   "cell_type": "code",
   "execution_count": 131,
   "id": "e2599fb6",
   "metadata": {},
   "outputs": [
    {
     "data": {
      "image/png": "[encoded data removed]",
      "text/plain": [
       "<Figure size 432x288 with 1 Axes>"
      ]
     },
     "metadata": {
      "needs_background": "light"
     },
     "output_type": "display_data"
    }
   ],
   "source": [
    "drawGraph(X,[Y1,Y2],['Total','HighPriority'])"
   ]
  },
  {
   "cell_type": "markdown",
   "id": "63d28027",
   "metadata": {},
   "source": [
    "# 读取输出日志信息\n",
    "### 1. 输入服务端日志server_err.log、发送块信息block_trace、客户端日志client.log路径。\n",
    "### 2.输出高优先级块按时完成率等信息\n",
    "### 3.draw=true时，画出图像，默认Y轴为高优先级块完成率和所有块按时完成率\n"
   ]
  },
  {
   "cell_type": "code",
   "execution_count": 132,
   "id": "2422ce05",
   "metadata": {},
   "outputs": [],
   "source": [
    "def calculate_statiscs(servErrPath,blockConfPath,logPath='./client.log',draw=False):\n",
    "    \"\"\"\n",
    "    Parse the content tn the Client.log,return a dict contains the statistics of the outcome mesures.\n",
    "    keys:\n",
    "    'TotalBlockNum':Number of blocks planning to send by the server.\n",
    "    'BlockSentNum':Number of blocks sent by the server.\n",
    "    'BlockRecvNum':Number of blocks recieved by the client\n",
    "    'BlockInTime':Number of blocks arrived before the ddl.\n",
    "    'HighpriBlockInTime':the number of high priority blocks arrived before the ddl.\n",
    "    'AvrTime':Average BCT(ms)\n",
    "\n",
    "    if parameter draw set to True,Draw a picture with y value as block-in-time rate and x value as time.\n",
    "    \"\"\"\n",
    "    logStart='BlockID  bct  BlockSize  Priority  Deadline\\n'\n",
    "    \n",
    "    # collect client blocks information\n",
    "    client_blocks_dict = {}\n",
    "    for index in CLIENT_BLOCKS_INDEXES:\n",
    "        client_blocks_dict[index] = []\n",
    "    # collect client stats\n",
    "    client_stat_dict = {}\n",
    "    for index in CLIENT_STAT_INDEXES:\n",
    "        client_stat_dict[index] = []\n",
    "        \n",
    "    if os.path.isfile(logPath)==False:\n",
    "        print(\"Error calculate_statiscs:clint.log not found\")\n",
    "        return\n",
    "    flag=True\n",
    "    \n",
    "    lineNum=4 #offset\n",
    "    resDict={}\n",
    "   #读头\n",
    "    line=linecache.getline(logPath,lineNum)\n",
    "    if line==logStart:\n",
    "        lineNum+=1\n",
    "    else:\n",
    "        print(\"Error calculate_statiscs:incomplete clitnt.log\")\n",
    "        return\n",
    "\n",
    "    #analysing\n",
    "    \n",
    "    endFlagstr='connection closed\\n'\n",
    "    sendBlockNum=len(open(blockConfPath,'r').readlines()) #发送块数\n",
    "\n",
    "    totalBct=0      #总发送时间\n",
    "    highPriNum=0  #高优先级块数\n",
    "    highPri_late=0  #超时到达高优先级块数\n",
    "    total_late =0   #超时块数\n",
    "    recvBlockNum=0        #总接收块\n",
    "    flag=True\n",
    "\n",
    "    #drawing\n",
    "    timeX=[]\n",
    "    high_rateY=[]\n",
    "    rateY=[]\n",
    "    avrTimeY=[]\n",
    "    curTime=0\n",
    "\n",
    "    while flag:\n",
    "        changeFlag=False#output when new lines arrive\n",
    "\n",
    "        _=linecache.updatecache(logPath)\n",
    "        blank=False\n",
    "        while blank!=True:\n",
    "            line=linecache.getline(logPath,lineNum)\n",
    "            if line=='':\n",
    "                print(\"Error calculate_statiscs:incomplete clitnt.log\")\n",
    "                return\n",
    "            elif line==endFlagstr:\n",
    "                blank=True\n",
    "                flag=False\n",
    "            else:#parse\n",
    "                p=re.findall(r'\\b\\d+\\b',line)\n",
    "                p=list(map(int,p))\n",
    "                if len(p)!=5:\n",
    "                    break#ramdom bug\n",
    "                changeFlag=True\n",
    "                recvBlockNum+=1\n",
    "                bct=p[1]\n",
    "                totalBct+=bct\n",
    "                lineNum+=1\n",
    "                if p[3]==1:\n",
    "                    highPriNum+=1\n",
    "                if bct>p[4]:\n",
    "                    total_late+=1\n",
    "                    if p[3]==1:\n",
    "                        highPri_late +=1\n",
    "                        \n",
    "                if draw == True:\n",
    "                    curTime+=bct\n",
    "                    timeX.append(curTime)\n",
    "                    highBlockRate=round(100*(highPriNum-highPri_late)/highPriNum,2)\n",
    "                    high_rateY.append(highBlockRate)\n",
    "                    blockRate=round((recvBlockNum-total_late)/recvBlockNum*100,2)\n",
    "                    rateY.append(blockRate)\n",
    "                    \n",
    "        #continue\n",
    "        if changeFlag==True and draw ==True:\n",
    "            #print('已接收{}块，平均完成时间为{}s,高优先级块按时完成率为{}%,所有块按时完成率为{}%'.format(recvBlockNum,round(totalBct/recvBlockNum,2),100*(highPriNum-highPri_late)/highPriNum,(recvBlockNum-total_late)/sendBlockNum*100))\n",
    "            avrTime=round(totalBct/recvBlockNum,2)\n",
    "            highBlockRate=round(100*(highPriNum-highPri_late)/highPriNum,2)\n",
    "            blockRate=round((recvBlockNum-total_late)/recvBlockNum*100,2)\n",
    "\n",
    "            timeX.append(curTime)\n",
    "            high_rateY.append(highBlockRate)\n",
    "            rateY.append(blockRate)\n",
    "            #draw\n",
    "            drawGraph(timeX,[rateY,high_rateY],['Total','HighPriority'])\n",
    "            \n",
    "            print('已接收{}块，平均完成时间为{}ms,高优先级块按时完成率为{}%'.format(recvBlockNum,avrTime,highBlockRate))\n",
    "       #blocks num lines of blocks\n",
    "\n",
    "\n",
    "    \n",
    "    #logs_Path=resultPath+'/logs'\n",
    "\n",
    "    blockDropNum=0\n",
    "    servErrLog=open(servErrPath)\n",
    "    for line in servErrLog:\n",
    "        if line!='' and line[0]=='b' and line[1]=='l':\n",
    "            blockDropNum +=1\n",
    "    blockSentNum=sendBlockNum-blockDropNum\n",
    "    \n",
    "    \n",
    "    resDict={'TotalBlockNum':sendBlockNum,'BlockSentNum':blockSentNum,'BlockRecvNum':recvBlockNum,'BlockInTime':recvBlockNum-total_late,'HighpriBlockInTime':highPriNum-highPri_late,'AvrTime':round(totalBct/recvBlockNum,2)}\n",
    "\n",
    "    return resDict,timeX,rateY,high_rateY"
   ]
  },
  {
   "cell_type": "code",
   "execution_count": 137,
   "id": "624a6454",
   "metadata": {
    "scrolled": true
   },
   "outputs": [
    {
     "data": {
      "image/png": "[encoded data removed]",
      "text/plain": [
       "<Figure size 432x288 with 1 Axes>"
      ]
     },
     "metadata": {
      "needs_background": "light"
     },
     "output_type": "display_data"
    },
    {
     "name": "stdout",
     "output_type": "stream",
     "text": [
      "已接收1508块，平均完成时间为101.36ms,高优先级块按时完成率为68.2%\n",
      "{'TotalBlockNum': 5, 'BlockSentNum': 2, 'BlockRecvNum': 1508, 'BlockInTime': 1053, 'HighpriBlockInTime': 697, 'AvrTime': 101.36}\n"
     ]
    }
   ],
   "source": [
    "resDict,X,Y1,Y2=calculate_statiscs(logPath='./client.log',blockConfPath='./aitrans_block.txt',\n",
    "                           servErrPath='./server_err.log',draw=True)\n",
    "print(resDict)"
   ]
  },
  {
   "cell_type": "markdown",
   "id": "5203f358",
   "metadata": {},
   "source": [
    "# 读取输出日志信息2\n"
   ]
  },
  {
   "cell_type": "code",
   "execution_count": 144,
   "id": "a9d2f506",
   "metadata": {},
   "outputs": [],
   "source": [
    "def parse_client_log(dir_path):\n",
    "    '''\n",
    "    Parse client.log and get two dicts of information.\n",
    "    `client_blocks_dict` stores information in client.log about block's stream_id, bct, deadline and priority\n",
    "    `client_stat_dict` stores statistics offered in client.log. Some important information is like goodbytes and total running time(total time)\n",
    "    '''\n",
    "    # collect client blocks information\n",
    "    client_blocks_dict = {}\n",
    "    for index in CLIENT_BLOCKS_INDEXES:\n",
    "        client_blocks_dict[index] = []\n",
    "    # collect client stats\n",
    "    client_stat_dict = {}\n",
    "    for index in CLIENT_STAT_INDEXES:\n",
    "        client_stat_dict[index] = []\n",
    "\n",
    "    with open(os.path.join(dir_path, \"client.log\")) as client:\n",
    "        client_lines = client.readlines()\n",
    "\n",
    "        for line in client_lines[4:-1]:\n",
    "            if len(line) > 1:\n",
    "               client_line_list = line.split()\n",
    "               if len(client_line_list) != len(CLIENT_BLOCKS_INDEXES):\n",
    "                   print(\"A client block log line has error format in : %s. This happens sometime.\" % dir_path)\n",
    "                   continue\n",
    "               for i in range(len(client_line_list)):\n",
    "                   client_blocks_dict[CLIENT_BLOCKS_INDEXES[i]].append(client_line_list[i])\n",
    "\n",
    "        # try to parse the last line of client log\n",
    "        try:\n",
    "            lastLine=client_lines[-1][0:-1].split(',')\n",
    "            print(lastLine)\n",
    "            if len(lastLine)!=9:\n",
    "                raise ValueError(\"client re match returns None in : %s\" % dir_path, client_lines[-1])\n",
    "\n",
    "            client_stat_dict[\"c_recv\"].append(float(lastLine[0]))\n",
    "            client_stat_dict[\"c_sent\"].append(float(lastLine[1]))\n",
    "            client_stat_dict[\"c_lost\"].append(float(lastLine[2]))\n",
    "            client_stat_dict[\"c_rtt(ms)\"].append(float(lastLine[3]))\n",
    "\n",
    "\n",
    "            client_stat_dict[\"c_cwnd\"].append(float(lastLine[4]))\n",
    "            client_stat_dict[\"c_total_bytes\"].append(float(lastLine[5]))\n",
    "            client_stat_dict[\"c_complete_bytes\"].append(float(lastLine[6]))\n",
    "            client_stat_dict[\"c_good_bytes\"].append(float(lastLine[7]))\n",
    "            client_stat_dict[\"c_total_time(us)\"].append(float(lastLine[8]))\n",
    "\n",
    "            # invalid stat\n",
    "            client_stat_dict[\"qoe\"].append(-1)\n",
    "            client_stat_dict[\"retry_times\"].append(-1)\n",
    "\n",
    "            return client_blocks_dict, client_stat_dict\n",
    "\n",
    "        except Exception:\n",
    "            print(dir_path)\n",
    "            print(client_lines[-1])\n",
    "            raise ValueError(\"Could not parse client's last line\")"
   ]
  },
  {
   "cell_type": "code",
   "execution_count": 145,
   "id": "c0281e85",
   "metadata": {},
   "outputs": [
    {
     "name": "stdout",
     "output_type": "stream",
     "text": [
      "A client block log line has error format in : .. This happens sometime.\n",
      "A client block log line has error format in : .. This happens sometime.\n",
      "['22656', '8966', '0', '3.035950', '14520', '29244304', '27882925', '27882925', '19514950']\n",
      "{'c_recv': [22656.0], 'c_sent': [8966.0], 'c_lost': [0.0], 'c_rtt(ms)': [3.03595], 'c_cwnd': [14520.0], 'c_total_bytes': [29244304.0], 'c_complete_bytes': [27882925.0], 'c_good_bytes': [27882925.0], 'c_total_time(us)': [19514950.0], 'qoe': [-1], 'retry_times': [-1]} {'BlockID': ['5', '9', '13', '17', '21', '25', '29', '33', '37', '41', '45', '49', '53', '57', '89', '61', '61', '61', '61', '61', '61', '61', '61', '61', '61', '61', '61', '61', '61', '61', '61', '61', '61', '61', '61', '61', '61', '61', '61', '61', '61', '61', '61', '61', '61', '61', '61', '61', '61', '61', '61', '61', '61', '61', '61', '61', '61', '61', '61', '61', '61', '61', '61', '61', '61', '61', '61', '61', '61', '61', '61', '61', '61', '61', '61', '61', '61', '61', '61', '61', '65', '69', '73', '77', '85', '81', '65', '69', '73', '77', '85', '81', '65', '69', '73', '77', '85', '81', '65', '69', '73', '77', '85', '81', '65', '69', '73', '77', '85', '81', '65', '69', '73', '77', '85', '81', '65', '69', '73', '77', '85', '81', '65', '69', '73', '77', '85', '81', '65', '69', '73', '77', '85', '81', '65', '69', '73', '77', '85', '81', '65', '69', '73', '77', '85', '81', '65', '69', '73', '77', '85', '81', '65', '69', '73', '77', '85', '81', '65', '69', '73', '77', '85', '81', '65', '69', '73', '77', '85', '81', '65', '69', '73', '77', '85', '81', '65', '69', '73', '77', '85', '81', '65', '69', '73', '77', '85', '81', '65', '69', '73', '77', '85', '81', '65', '69', '73', '77', '85', '81', '65', '69', '73', '77', '85', '81', '65', '69', '73', '77', '85', '81', '65', '69', '73', '77', '85', '81', '65', '69', '73', '77', '85', '81', '65', '69', '73', '77', '85', '81', '65', '69', '73', '77', '85', '81', '65', '69', '73', '77', '85', '81', '65', '69', '73', '77', '85', '81', '65', '69', '73', '77', '85', '81', '65', '69', '73', '77', '85', '81', '65', '69', '73', '77', '85', '81', '65', '69', '73', '77', '85', '81', '65', '69', '73', '77', '85', '81', '65', '69', '73', '77', '85', '81', '65', '69', '73', '77', '85', '81', '65', '69', '73', '77', '85', '81', '65', '69', '73', '77', '85', '81', '65', '69', '73', '77', '85', '81', '65', '69', '73', '77', '85', '81', '65', '69', '73', '77', '85', '81', '65', '69', '73', '77', '85', '81', '65', '69', '73', '77', '85', '81', '65', '69', '73', '77', '85', '81', '65', '69', '73', '77', '85', '81', '65', '69', '73', '77', '85', '81', '65', '69', '73', '77', '85', '81', '65', '69', '73', '77', '85', '81', '65', '69', '73', '77', '85', '81', '65', '69', '73', '77', '85', '81', '65', '69', '73', '77', '85', '81', '65', '69', '73', '77', '85', '81', '65', '69', '73', '77', '85', '81', '65', '69', '73', '77', '85', '81', '65', '69', '73', '77', '85', '81', '65', '69', '73', '77', '85', '81', '65', '69', '73', '77', '85', '81', '65', '69', '73', '77', '85', '81', '65', '69', '73', '77', '85', '81', '65', '69', '73', '77', '85', '81', '65', '69', '73', '77', '85', '81', '65', '69', '73', '77', '85', '81', '65', '69', '73', '77', '85', '81', '65', '69', '73', '77', '85', '81', '65', '69', '73', '77', '85', '81', '65', '69', '73', '77', '85', '81', '93', '97', '101', '105', '109', '113', '117', '121', '125', '133', '129', '137', '141', '145', '149', '157', '153', '161', '165', '169', '173', '177', '181', '185', '193', '189', '197', '201', '205', '209', '213', '217', '221', '225', '229', '233', '237', '241', '245', '249', '253', '257', '261', '265', '269', '273', '277', '281', '285', '289', '293', '297', '301', '305', '309', '313', '317', '321', '325', '329', '333', '337', '341', '345', '349', '357', '353', '361', '365', '369', '373', '377', '381', '385', '389', '393', '397', '401', '405', '409', '413', '417', '421', '429', '425', '433', '437', '441', '445', '453', '449', '457', '465', '461', '469', '473', '477', '481', '485', '489', '493', '497', '501', '505', '509', '513', '517', '521', '525', '529', '533', '537', '541', '545', '549', '557', '553', '561', '565', '569', '573', '577', '581', '585', '589', '593', '597', '601', '605', '609', '617', '613', '621', '625', '629', '633', '637', '641', '645', '649', '653', '657', '665', '661', '669', '673', '677', '681', '685', '689', '693', '697', '701', '705', '709', '713', '717', '721', '725', '729', '733', '737', '741', '745', '749', '753', '757', '761', '765', '769', '773', '777', '781', '785', '789', '793', '797', '801', '805', '809', '813', '817', '821', '825', '829', '833', '837', '841', '845', '849', '853', '857', '861', '865', '869', '873', '877', '881', '885', '889', '893', '897', '901', '905', '909', '913', '917', '921', '925', '929', '933', '937', '941', '949', '945', '953', '957', '961', '965', '973', '969', '977', '981', '985', '989', '993', '997', '1001', '1005', '1009', '1013', '1017', '1021', '1025', '1029', '1033', '1037', '1041', '1045', '1049', '1053', '1057', '1061', '1065', '1069', '1073', '1077', '1081', '1085', '1089', '1093', '1097', '1101', '1105', '1109', '1113', '1117', '1121', '1125', '1129', '1133', '1137', '1141', '1149', '1145', '1153', '1161', '1157', '1165', '1169', '1173', '1177', '1181', '1185', '1189', '1197', '1193', '1201', '1209', '1205', '1213', '1217', '1221', '1225', '1229', '1233', '1237', '1241', '1245', '1249', '1253', '1257', '1261', '1265', '1269', '1273', '1277', '1281', '1285', '1289', '1293', '1297', '1301', '1305', '1309', '1313', '1317', '1321', '1325', '1329', '1333', '1337', '1341', '1349', '1353', '1345', '1357', '1361', '1365', '1369', '1373', '1377', '1381', '1385', '1389', '1393', '1397', '1401', '1409', '1405', '1413', '1417', '1421', '1425', '1429', '1433', '1437', '1445', '1441', '1449', '1457', '1453', '1461', '1469', '1465', '1473', '1481', '1477', '1485', '1489', '1493', '1497', '1501', '1505', '1517', '1509', '1513', '1521', '1525', '1529', '1533', '1537', '1541', '1545', '1549', '1553', '1557', '1561', '1565', '1569', '1573', '1577', '1581', '1585', '1589', '1593', '1597', '1601', '1605', '1609', '1613', '1617', '1621', '1625', '1629', '1633', '1637', '1641', '1645', '1649', '1653', '1657', '1661', '1665', '1669', '1673', '1677', '1681', '1685', '1693', '1689', '1697', '1705', '1701', '1709', '1713', '1717', '1721', '1729', '1725', '1733', '1741', '1737', '1745', '1753', '1749', '1757', '1761', '1765', '1769', '1777', '1773', '1781', '1785', '1789', '1793', '1797', '1801', '1805', '1809', '1813', '1817', '1821', '1825', '1829', '1833', '1837', '1841', '1845', '1849', '1853', '1857', '1861', '1865', '1869', '1873', '1877', '1881', '1885', '1889', '1893', '1897', '1901', '1905', '1909', '1913', '1917', '1921', '1925', '1929', '1933', '1941', '1937', '1945', '1949', '1953', '1957', '1965', '1961', '1969', '1973', '1977', '1981', '1985', '1989', '1993', '1997', '2001', '2005', '2009', '2013', '2017', '2021', '2025', '2029', '2037', '2033', '2041', '2045', '2049', '2053', '2057', '2061', '2065', '2069', '2073', '2077', '2081', '2085', '2089', '2093', '2097', '2101', '2105', '2109', '2113', '2117', '2121', '2125', '2129', '2133', '2137', '2141', '2145', '2149', '2153', '2157', '2161', '2165', '2169', '2173', '2177', '2181', '2185', '2189', '2193', '2197', '2201', '2205', '2209', '2213', '2217', '2225', '2221', '2229', '2233', '2237', '2241', '2245', '2249', '2253', '2261', '2257', '2265', '2269', '2273', '2277', '2281', '2285', '2289', '2293', '2297', '2301', '2305', '2309', '2313', '2317', '2321', '2325', '2329', '2333', '2337', '2341', '2345', '2349', '2353', '2357', '2361', '2365', '2369', '2373', '2377', '2381', '2385', '2389', '2393', '2397', '2401', '2405', '2409', '2413', '2417', '2421', '2425', '2429', '2433', '2437', '2441', '2445', '2449', '2453', '2461', '2457', '2465', '2469', '2473', '2477', '2481', '2485', '2489', '2493', '2497', '2501', '2521', '2517', '2525', '2529', '2533', '2537', '2541', '2545', '2549', '2553', '2557', '2561', '2569', '2565', '2573', '2577', '2581', '2585', '2589', '2593', '2597', '2601', '2605', '2609', '2613', '2617', '2621', '2625', '2629', '2633', '2637', '2641', '2645', '2649', '2653', '2657', '2661', '2665', '2669', '2673', '2677', '2681', '2685', '2689', '2693', '2697', '2701', '2705', '2709', '2713', '2717', '2721', '2725', '2733', '2729', '2737', '2741', '2745', '2749', '2753', '2757', '2761', '2765', '2769', '2773', '2777', '2781', '2785', '2793', '2789', '2797', '2805', '2801', '2809', '2817', '2813', '2821', '2825', '2829', '2833', '2837', '2841', '2845', '2849', '2853', '2857', '2861', '2865', '2869', '2873', '2877', '2881', '2885', '2889', '2893', '2897', '2901', '2905', '2909', '2913', '2917', '2921', '2925', '2933', '2929', '2937', '2941', '2945', '2949', '2953', '2957', '2961', '2965', '2969', '2973', '2977', '2981', '2985', '2993', '2989', '2997', '3005', '3001', '3009', '3017', '3013', '3021', '3025', '3029', '3033', '3037', '3041', '3045', '3049', '3053', '3057', '3061', '3065', '3069', '3077', '3073', '3081', '3085', '3089', '3093', '3097', '3101', '3105', '3109', '3113', '3117', '3121', '3125', '3129', '3133', '3137', '3141', '3145', '3149', '3153', '3157', '3161', '3165', '3169', '3173', '3177', '3181', '3185', '3189', '3193', '3197', '3201', '3205', '3209', '3213', '3217', '3221', '3225', '3229', '3233', '3241', '3237', '3245', '3249', '3253', '3257', '3265', '3261', '3269', '3273', '3277', '3281', '3285', '3289', '3293', '3297', '3301', '3305', '3313', '3309', '3317', '3325', '3321', '3329', '3337', '3333', '3341', '3345', '3349', '3353', '3361', '3357', '3365', '3369', '3373', '3377', '3381', '3385', '3389', '3393', '3397', '3401', '3405', '3409', '3413', '3417', '3421', '3425', '3429', '3433', '3437', '3441', '3445', '3449', '3453', '3457', '3461', '3465', '3469', '3473', '3477', '3481', '3485', '3489', '3493', '3497', '3501', '3505', '3513', '3509', '3517', '3521', '3525', '3529', '3533', '3537', '3541', '3549', '3545', '3553', '3557', '3561', '3565', '3573', '3569', '3577', '3581', '3585', '3589', '3593', '3597', '3601', '3605', '3609', '3613', '3617', '3621', '3625', '3629', '3633', '3641', '3637', '3645', '3649', '3653', '3657', '3661', '3665', '3669', '3673', '3677', '3681', '3685', '3689', '3693', '3697', '3701', '3705', '3709', '3713', '3717', '3721', '3725', '3729', '3733', '3737', '3741', '3745', '3749', '3753', '3757', '3761', '3765', '3769', '3773', '3777', '3781', '3785', '3789', '3793', '3797', '3801', '3809', '3805', '3813', '3817', '3821', '3825', '3829', '3833', '3837', '3845', '3841', '3849', '3853', '3857', '3861', '3865', '3869', '3873', '3881', '3877', '3885', '3889', '3893', '3897', '3901', '3905', '3909', '3913', '3917', '3921', '3925', '3929', '3933', '3937', '3941', '3945', '3949', '3953', '3957', '3961', '3965', '3969', '3973', '3977', '3981', '3985', '3989', '3993', '3997', '4001', '4005', '4009', '4013', '4017', '4021', '4025', '4029', '4033', '4037', '4041', '4045', '4049', '4053', '4057', '4061', '4069', '4065', '4073', '4077', '4081', '4085', '4093', '4089', '4097', '4105', '4101', '4109', '4117', '4113', '4121', '4125', '4129', '4133', '4141', '4137', '4145', '4153', '4149', '4157', '4161', '4165', '4169', '4173', '4177', '4181', '4185', '4189', '4193', '4197', '4201', '4205', '4209', '4213', '4217', '4221', '4225', '4229', '4233', '4237', '4241', '4245', '4249', '4253'], 'bct': ['0', '6', '0', '0', '1', '1', '1', '1', '1', '1', '3', '0', '0', '1', '0', '330', '330', '330', '330', '330', '330', '330', '330', '330', '330', '330', '330', '330', '330', '330', '330', '330', '330', '330', '330', '330', '330', '330', '330', '330', '330', '330', '330', '330', '330', '330', '330', '330', '330', '330', '330', '330', '330', '330', '330', '330', '330', '330', '330', '330', '330', '330', '330', '330', '330', '330', '330', '330', '330', '330', '330', '330', '330', '330', '330', '330', '330', '330', '330', '330', '330', '333', '330', '330', '334', '334', '330', '333', '330', '330', '334', '334', '330', '333', '330', '330', '334', '334', '330', '333', '330', '330', '334', '334', '330', '333', '330', '330', '334', '334', '330', '333', '330', '330', '334', '334', '330', '333', '330', '330', '334', '334', '330', '333', '330', '330', '334', '334', '330', '333', '330', '330', '334', '334', '330', '333', '330', '330', '334', '334', '330', '333', '330', '330', '334', '334', '330', '333', '330', '330', '334', '334', '330', '333', '330', '330', '334', '334', '330', '333', '330', '330', '334', '334', '330', '333', '330', '330', '334', '334', '330', '333', '330', '330', '334', '334', '330', '333', '330', '330', '334', '334', '330', '333', '330', '330', '334', '334', '330', '333', '330', '330', '334', '334', '330', '333', '330', '330', '334', '334', '330', '333', '330', '330', '334', '334', '330', '333', '330', '330', '334', '334', '330', '333', '330', '330', '334', '334', '330', '333', '330', '330', '334', '334', '330', '333', '330', '330', '334', '334', '330', '333', '330', '330', '334', '334', '330', '333', '330', '330', '334', '334', '330', '333', '330', '330', '334', '334', '330', '333', '330', '330', '334', '334', '330', '333', '330', '330', '334', '334', '330', '333', '330', '330', '334', '334', '330', '333', '330', '330', '334', '334', '330', '333', '330', '330', '334', '334', '330', '333', '330', '330', '334', '334', '330', '333', '330', '330', '334', '334', '330', '333', '330', '330', '334', '334', '330', '333', '330', '330', '334', '334', '330', '333', '330', '330', '334', '334', '330', '333', '330', '330', '334', '334', '330', '333', '330', '330', '334', '334', '330', '333', '330', '330', '334', '334', '330', '333', '330', '330', '334', '334', '330', '333', '330', '330', '334', '334', '330', '333', '330', '330', '334', '334', '330', '333', '330', '330', '334', '334', '330', '333', '330', '330', '334', '334', '330', '333', '330', '330', '334', '334', '330', '333', '330', '330', '334', '334', '330', '333', '330', '330', '334', '334', '330', '333', '330', '330', '334', '334', '330', '333', '330', '330', '334', '334', '330', '333', '330', '330', '334', '334', '330', '333', '330', '330', '334', '334', '330', '333', '330', '330', '334', '334', '330', '333', '330', '330', '334', '334', '330', '333', '330', '330', '334', '334', '330', '333', '330', '330', '334', '334', '330', '333', '330', '330', '334', '334', '330', '333', '330', '330', '334', '334', '330', '333', '330', '330', '334', '334', '330', '333', '330', '330', '334', '334', '330', '333', '330', '330', '334', '334', '330', '333', '330', '330', '334', '334', '330', '333', '330', '330', '334', '334', '330', '333', '330', '330', '334', '334', '1', '1', '0', '6', '6', '0', '1', '0', '1', '6', '7', '1', '0', '0', '1', '0', '0', '4', '0', '0', '1', '0', '0', '1', '1', '1', '2', '0', '0', '7', '0', '0', '1', '0', '0', '3', '0', '0', '1', '1', '1', '2', '1', '1', '2', '0', '1', '3', '0', '0', '4', '0', '0', '2', '0', '1', '1', '1', '1', '2', '1', '1', '7', '7', '0', '0', '0', '0', '3', '3', '0', '2', '2', '0', '4', '4', '0', '0', '0', '1', '0', '0', '1', '1', '1', '4', '1', '1', '1', '1', '1', '3', '2', '2', '1', '0', '0', '4', '2', '0', '1', '1', '1', '6', '0', '0', '2', '1', '1', '4', '0', '0', '1', '0', '1', '0', '19', '1', '1', '1', '1', '4', '1', '0', '1', '0', '0', '3', '0', '1', '1', '1', '0', '3', '2', '0', '2', '2', '0', '1', '1', '1', '1', '1', '3', '1', '1', '3', '0', '1', '3', '0', '1', '0', '0', '0', '4', '0', '0', '0', '0', '0', '2', '0', '0', '1', '0', '0', '1', '0', '0', '5', '0', '0', '2', '1', '1', '2', '0', '1', '3', '1', '0', '3', '0', '0', '2', '1', '1', '3', '0', '1', '2', '0', '0', '3', '2', '1', '2', '2', '0', '3', '3', '0', '1', '1', '0', '4', '4', '1', '0', '0', '2', '1', '1', '3', '0', '0', '3', '1', '1', '4', '0', '0', '2', '1', '1', '5', '0', '0', '2', '0', '0', '7', '1', '1', '4', '1', '0', '3', '1', '1', '8', '0', '0', '2', '0', '0', '4', '2', '1', '1', '0', '0', '4', '1', '1', '6', '1', '2', '1', '1', '1', '5', '7', '0', '1', '1', '0', '5', '5', '0', '4', '4', '0', '0', '0', '1', '0', '0', '8', '1', '1', '1', '1', '1', '2', '1', '1', '1', '0', '1', '3', '0', '0', '1', '0', '0', '4', '0', '0', '1', '1', '0', '2', '2', '0', '2', '0', '0', '1', '0', '0', '0', '0', '37', '1', '0', '0', '1', '0', '0', '2', '1', '0', '0', '0', '0', '2', '3', '1', '1', '0', '1', '5', '4', '0', '1', '1', '0', '2', '2', '0', '0', '0', '1', '0', '0', '0', '0', '0', '1', '0', '0', '0', '22', '6', '1', '1', '0', '1', '0', '1', '2', '1', '0', '1', '0', '0', '2', '0', '0', '0', '1', '0', '2', '0', '0', '0', '0', '0', '2', '0', '0', '0', '0', '0', '1', '0', '0', '1', '0', '0', '2', '2', '1', '1', '1', '0', '1', '1', '1', '1', '1', '1', '4', '4', '1', '0', '0', '1', '0', '0', '0', '0', '0', '3', '0', '0', '0', '0', '0', '1', '1', '1', '0', '0', '1', '2', '1', '0', '1', '1', '0', '1', '2', '0', '0', '1', '0', '3', '4', '0', '0', '0', '1', '1', '1', '0', '1', '1', '1', '2', '0', '1', '2', '1', '1', '2', '2', '0', '0', '0', '0', '1', '1', '1', '0', '0', '1', '1', '1', '1', '1', '1', '2', '2', '2', '0', '1', '2', '1', '0', '0', '0', '0', '0', '1', '0', '0', '0', '0', '0', '1', '0', '1', '11', '1', '0', '1', '0', '0', '46', '7', '2', '38', '3', '2', '4', '1', '0', '1', '0', '0', '1', '0', '0', '1', '0', '0', '2', '0', '0', '1', '1', '0', '1', '2', '0', '0', '0', '0', '1', '1', '0', '1', '1', '1', '0', '0', '1', '0', '0', '2', '0', '0', '1', '1', '1', '2', '111', '112', '3', '0', '0', '2', '0', '0', '0', '0', '0', '1', '0', '0', '0', '1', '0', '2', '1', '0', '1', '1', '1', '2', '0', '0', '1', '0', '0', '1', '0', '0', '0', '0', '0', '1', '0', '0', '90', '90', '72', '1', '51', '0', '85', '85', '0', '185', '2', '0', '1', '0', '1', '0', '0', '60', '0', '0', '1', '1', '1', '2', '0', '0', '19', '0', '0', '1', '0', '0', '0', '0', '0', '1', '0', '0', '0', '1', '1', '4', '1', '1', '1', '0', '0', '2', '0', '0', '1', '0', '0', '2', '0', '0', '1', '0', '0', '1', '0', '0', '1', '0', '1', '2', '1', '1', '1', '1', '0', '1', '1', '0', '1', '1', '0', '2', '2', '1', '0', '0', '1', '0', '0', '0', '0', '0', '1', '0', '0', '1', '1', '1', '1', '1', '0', '1', '0', '0', '1', '0', '0', '1', '0', '0', '1', '0', '0', '0', '0', '0', '1', '0', '0', '1', '0', '1', '0', '21', '0', '1', '1', '1', '0', '0', '0', '1', '0', '0', '0', '1', '0', '0', '0', '0', '0', '0', '0', '1', '1', '0', '1', '0', '0', '0', '0', '1', '0', '0', '1', '1', '1', '1', '0', '0', '0', '0', '0', '1', '0', '0', '1', '0', '0', '0', '0', '0', '0', '0', '0', '0', '1', '1', '0', '0', '1', '1', '1', '0', '1', '0', '0', '0', '0', '0', '1', '0', '0', '0', '0', '0', '1', '1', '0', '0', '0', '0', '0', '0', '0', '0', '0', '0', '1', '1', '0', '0', '0', '0', '0', '0', '0', '0', '0', '1', '0', '0', '0', '0', '0', '0', '0', '0', '0', '1', '2', '1', '0', '0', '0', '0', '1', '1', '1', '1', '1', '1', '0', '1', '1', '0', '1', '0', '0', '0', '0', '0', '0', '0', '0', '1', '0', '0', '0', '0', '0', '1', '0', '1', '1', '1', '0', '0', '1', '0', '1', '1', '1', '1', '1', '0', '1', '1', '1', '1', '1', '1', '0', '0', '1', '1', '1', '0', '0', '0', '1', '1', '1', '1', '1', '1', '1', '1', '2', '0', '21', '0', '0', '0', '0', '0', '0', '0', '3', '0', '0', '0', '0', '0', '0', '1', '1', '1', '1', '0', '2', '0', '1', '0', '0', '0', '1', '0', '0', '1', '0', '0', '1', '1', '0', '0', '1', '1', '1', '1', '1', '1', '1', '1', '1', '1', '1', '0', '0', '0', '0', '0', '1', '0', '0', '1', '1', '1', '1', '0', '0', '1', '1', '0', '0', '0', '0', '0', '0', '0', '0', '0', '0', '1', '0', '0', '0', '0', '1', '1', '1', '1', '1', '1', '1', '1', '1', '0', '0', '0', '0', '0', '0', '0', '0', '0', '0', '1', '2', '0', '0', '0', '0', '0', '0', '0', '0', '0', '0', '1', '1', '0', '0', '0', '0', '0', '0', '0', '0', '0', '1', '1', '1', '0', '0', '0', '0', '0', '0', '0', '0', '0', '0', '0', '0', '0', '1', '0', '1', '1', '1', '1', '0', '0', '1', '0', '0', '0', '0', '0', '0', '0', '0', '0'], 'BlockSize': ['1235', '288555', '1435', '1475', '53910', '1210', '1205', '53735', '1195', '1255', '171460', '1625', '1450', '53415', '1195', '1240', '1240', '1240', '1240', '1240', '1240', '1240', '1240', '1240', '1240', '1240', '1240', '1240', '1240', '1240', '1240', '1240', '1240', '1240', '1240', '1240', '1240', '1240', '1240', '1240', '1240', '1240', '1240', '1240', '1240', '1240', '1240', '1240', '1240', '1240', '1240', '1240', '1240', '1240', '1240', '1240', '1240', '1240', '1240', '1240', '1240', '1240', '1240', '1240', '1240', '1240', '1240', '1240', '1240', '1240', '1240', '1240', '1240', '1240', '1240', '1240', '1240', '1240', '1240', '1240', '1250', '172580', '1220', '1215', '1195', '281425', '1250', '172580', '1220', '1215', '1195', '281425', '1250', '172580', '1220', '1215', '1195', '281425', '1250', '172580', '1220', '1215', '1195', '281425', '1250', '172580', '1220', '1215', '1195', '281425', '1250', '172580', '1220', '1215', '1195', '281425', '1250', '172580', '1220', '1215', '1195', '281425', '1250', '172580', '1220', '1215', '1195', '281425', '1250', '172580', '1220', '1215', '1195', '281425', '1250', '172580', '1220', '1215', '1195', '281425', '1250', '172580', '1220', '1215', '1195', '281425', '1250', '172580', '1220', '1215', '1195', '281425', '1250', '172580', '1220', '1215', '1195', '281425', '1250', '172580', '1220', '1215', '1195', '281425', '1250', '172580', '1220', '1215', '1195', '281425', '1250', '172580', '1220', '1215', '1195', '281425', '1250', '172580', '1220', '1215', '1195', '281425', '1250', '172580', '1220', '1215', '1195', '281425', '1250', '172580', '1220', '1215', '1195', '281425', '1250', '172580', '1220', '1215', '1195', '281425', '1250', '172580', '1220', '1215', '1195', '281425', '1250', '172580', '1220', '1215', '1195', '281425', '1250', '172580', '1220', '1215', '1195', '281425', '1250', '172580', '1220', '1215', '1195', '281425', '1250', '172580', '1220', '1215', '1195', '281425', '1250', '172580', '1220', '1215', '1195', '281425', '1250', '172580', '1220', '1215', '1195', '281425', '1250', '172580', '1220', '1215', '1195', '281425', '1250', '172580', '1220', '1215', '1195', '281425', '1250', '172580', '1220', '1215', '1195', '281425', '1250', '172580', '1220', '1215', '1195', '281425', '1250', '172580', '1220', '1215', '1195', '281425', '1250', '172580', '1220', '1215', '1195', '281425', '1250', '172580', '1220', '1215', '1195', '281425', '1250', '172580', '1220', '1215', '1195', '281425', '1250', '172580', '1220', '1215', '1195', '281425', '1250', '172580', '1220', '1215', '1195', '281425', '1250', '172580', '1220', '1215', '1195', '281425', '1250', '172580', '1220', '1215', '1195', '281425', '1250', '172580', '1220', '1215', '1195', '281425', '1250', '172580', '1220', '1215', '1195', '281425', '1250', '172580', '1220', '1215', '1195', '281425', '1250', '172580', '1220', '1215', '1195', '281425', '1250', '172580', '1220', '1215', '1195', '281425', '1250', '172580', '1220', '1215', '1195', '281425', '1250', '172580', '1220', '1215', '1195', '281425', '1250', '172580', '1220', '1215', '1195', '281425', '1250', '172580', '1220', '1215', '1195', '281425', '1250', '172580', '1220', '1215', '1195', '281425', '1250', '172580', '1220', '1215', '1195', '281425', '1250', '172580', '1220', '1215', '1195', '281425', '1250', '172580', '1220', '1215', '1195', '281425', '1250', '172580', '1220', '1215', '1195', '281425', '1250', '172580', '1220', '1215', '1195', '281425', '1250', '172580', '1220', '1215', '1195', '281425', '1250', '172580', '1220', '1215', '1195', '281425', '1250', '172580', '1220', '1215', '1195', '281425', '1250', '172580', '1220', '1215', '1195', '281425', '1250', '172580', '1220', '1215', '1195', '281425', '1250', '172580', '1220', '1215', '1195', '281425', '1250', '172580', '1220', '1215', '1195', '281425', '1250', '172580', '1220', '1215', '1195', '281425', '1250', '172580', '1220', '1215', '1195', '281425', '1250', '172580', '1220', '1215', '1195', '281425', '1250', '172580', '1220', '1215', '1195', '281425', '52795', '1260', '1185', '257340', '1275', '1235', '49390', '1245', '1215', '1355', '256815', '45410', '1225', '1265', '64775', '1240', '1235', '244720', '1265', '1225', '36250', '1285', '1275', '62690', '1275', '1465', '78415', '1255', '1315', '168430', '1255', '1475', '59105', '1230', '1240', '226140', '1245', '1490', '37695', '1245', '1210', '71995', '1215', '1235', '80330', '1185', '1345', '193685', '1170', '1425', '70615', '1390', '1415', '101625', '1130', '1135', '61445', '1205', '1190', '123185', '1230', '1200', '198880', '1865', '1230', '1160', '23310', '1195', '44375', '1165', '1180', '120235', '1220', '1225', '244295', '1250', '1205', '59520', '1240', '45970', '1260', '1240', '119260', '1225', '1245', '212415', '1270', '1225', '52720', '1245', '1245', '153470', '1270', '1255', '51410', '1285', '1215', '218055', '1235', '1250', '51605', '1240', '1240', '215445', '1280', '1270', '33555', '1245', '1280', '195700', '1340', '1350', '45990', '1280', '1300', '1245', '668915', '1255', '15150', '1240', '1270', '135175', '1265', '1325', '22770', '1275', '1260', '143145', '1290', '1230', '1255', '33120', '1375', '151945', '1410', '1290', '24745', '1240', '1245', '113365', '1295', '1310', '1270', '22075', '120260', '1250', '1255', '18405', '1300', '1320', '175755', '1275', '1480', '17820', '1405', '1275', '145750', '1315', '1235', '26360', '1270', '1280', '114425', '1385', '1295', '15605', '1295', '1300', '76825', '1310', '1400', '309655', '1415', '1255', '79570', '1255', '1245', '72735', '1210', '1210', '175895', '1215', '1945', '166310', '1460', '1160', '72440', '1180', '1175', '183075', '1300', '1250', '102535', '1240', '1180', '178310', '1845', '1150', '123245', '1170', '1265', '190640', '1220', '1230', '98555', '1345', '1200', '130375', '1195', '66745', '1310', '1285', '181425', '1200', '1215', '197350', '1295', '1315', '124945', '1215', '1250', '190285', '1245', '1305', '117120', '1295', '1305', '275575', '1305', '1395', '111690', '1295', '1255', '144230', '1360', '1245', '198975', '1255', '1260', '137295', '1260', '1300', '258725', '1255', '1225', '136740', '1215', '1280', '204445', '1290', '1330', '96440', '1335', '1230', '57725', '1190', '1190', '173960', '1185', '1220', '39710', '1230', '1250', '1290', '137330', '1300', '1260', '43730', '1325', '122160', '1305', '1320', '282310', '1290', '38445', '1290', '1280', '39640', '1255', '1295', '182250', '1310', '1300', '40540', '1305', '1255', '104320', '1290', '1350', '42685', '1340', '1280', '181965', '1270', '1295', '44050', '1215', '1220', '90725', '1245', '1250', '43015', '1255', '1250', '117775', '1255', '1310', '47300', '1275', '1280', '93490', '1305', '1470', '1530', '1475', '1000000', '6940', '1160', '1200', '5895', '1230', '1235', '121240', '1230', '1255', '8620', '1265', '1855', '1105', '144510', '1185', '9965', '1220', '1205', '180015', '1235', '1270', '1200', '10235', '1300', '1265', '122240', '10950', '1330', '1240', '69200', '1280', '1260', '11215', '1275', '1335', '66440', '1255', '1295', '1485', '1000000', '1390', '44625', '1395', '1240', '6895', '1210', '1230', '137795', '1180', '1195', '8225', '1220', '1250', '110655', '1375', '1425', '8410', '1495', '1310', '49900', '1220', '1210', '9815', '1230', '1210', '140975', '1240', '1405', '10135', '1345', '1160', '53425', '1145', '1195', '12565', '1230', '1250', '135465', '1260', '1280', '8735', '1450', '1355', '1230', '45795', '1495', '1345', '8760', '1295', '131115', '1180', '7615', '1210', '1130', '47885', '1225', '1150', '8305', '1210', '1175', '107620', '1130', '1215', '7585', '1245', '1250', '51565', '1225', '1215', '9130', '1285', '1255', '131960', '1260', '1275', '8225', '1270', '1400', '43775', '1190', '1210', '9335', '1350', '1220', '141110', '1245', '1280', '8800', '1210', '1275', '48815', '1245', '1220', '8360', '1235', '1245', '99865', '1315', '1295', '8690', '1240', '1285', '49515', '1235', '1265', '1255', '9100', '1255', '85070', '1250', '1260', '1270', '9610', '1295', '42285', '1305', '6955', '1315', '1255', '86385', '1345', '1310', '10375', '1305', '1285', '47805', '1330', '1315', '8905', '1265', '1325', '58350', '1285', '1295', '9455', '1265', '1300', '42995', '1370', '1275', '522375', '1235', '1285', '30635', '1275', '1285', '57015', '1285', '1250', '28840', '1320', '1295', '69250', '1400', '1235', '31205', '1250', '1270', '63230', '1365', '1385', '25415', '1285', '1230', '74505', '1260', '1310', '29715', '1290', '1300', '66595', '1385', '1310', '28535', '1260', '1235', '1275', '81305', '1940', '26700', '1190', '66070', '1195', '1275', '29460', '1265', '1205', '88000', '1200', '1240', '28610', '1285', '1290', '76370', '1290', '1250', '32975', '1325', '1295', '56760', '1260', '1265', '34525', '1235', '1270', '90450', '1260', '1260', '35795', '1245', '1320', '55295', '1300', '1315', '32355', '1255', '1275', '96505', '1275', '1255', '31430', '1295', '1275', '52715', '1300', '1240', '30480', '1280', '1280', '95435', '1340', '1295', '28995', '1285', '1275', '1300', '52085', '1300', '30315', '1330', '1360', '91330', '1270', '1230', '30860', '1295', '1325', '1275', '1235', '93445', '1305', '1300', '32485', '1285', '1320', '54100', '1270', '1315', '29490', '1265', '1305', '97540', '1255', '1285', '31035', '1315', '1300', '53040', '1305', '1305', '32030', '1335', '1290', '91920', '1260', '1320', '31315', '1290', '1270', '52790', '1260', '1275', '29335', '1280', '1335', '97615', '1265', '1285', '32725', '1270', '1345', '53150', '1420', '1810', '30085', '1300', '1295', '85020', '1285', '1180', '1140', '31280', '1200', '53555', '1120', '1205', '30930', '1190', '1205', '86340', '1185', '31165', '1150', '1290', '52350', '1280', '1190', '31005', '1260', '1225', '77730', '1255', '1250', '33265', '1250', '1250', '52350', '1270', '1270', '35020', '1300', '1235', '65795', '1260', '1250', '33940', '1270', '1260', '56125', '1315', '1265', '40675', '1245', '1280', '50000', '1250', '1290', '42190', '1290', '1305', '1270', '1000000', '1300', '8835', '1270', '1295', '5600', '1260', '1260', '92610', '1310', '1275', '6870', '1265', '1250', '1305', '12090', '1255', '1255', '9080', '1280', '1300', '72260', '1335', '6690', '1340', '13030', '1270', '1315', '7965', '1310', '1305', '72960', '1245', '1275', '8215', '1250', '1275', '12140', '1305', '1295', '6445', '1260', '1290', '66780', '1315', '1335', '7305', '1275', '1270', '11590', '1255', '1330', '6940', '1270', '1250', '60500', '1255', '1290', '6465', '1300', '1305', '11740', '1275', '1270', '6010', '1285', '1245', '55965', '1275', '1320', '6865', '1295', '1240', '54495', '1290', '1270', '1340', '7775', '1275', '19075', '1260', '1275', '1260', '6370', '1290', '73835', '1285', '1345', '8630', '1250', '16875', '1290', '1355', '7090', '1255', '1275', '63230', '1265', '1295', '6535', '1255', '1295', '15720', '1325', '1340', '6450', '1285', '1265', '53595', '1245', '1265', '7520', '1295', '1240', '18410', '1275', '1240', '6315', '1280', '1285', '50150', '1275', '1300', '8595', '1290', '1335', '17280', '1275', '1270', '9025', '1305', '1300', '51510', '1275', '1270', '7670', '1255', '1315', '17895', '1260', '1290', '8165', '1260', '1285', '1270', '43495', '1285', '10905', '1260', '1285', '15270', '1315', '1265', '1295', '8630', '1295', '31550', '1345', '9625', '1230', '1270', '13875', '1305', '1280', '8455', '1220', '1280', '20460', '1305', '1285', '12750', '1245', '1280', '21490', '1280', '1315', '1305', '1000000', '1265', '5440', '1315', '1315', '1515', '1265', '1290', '208725', '1280', '1260', '2000', '1280', '1300', '5785', '1285', '1300', '3340', '1260', '1250', '116320', '1285', '1300', '2730', '1285', '1275', '4130', '1280', '1300', '1910', '1220', '1495', '68175', '1270', '1250', '2815', '1280', '1235', '4290', '1230', '1240', '1240', '1270', '1190', '65440', '1240', '2060', '1235', '1235', '690', '1270', '1265', '23445', '1385', '1445', '2090', '1235', '1200', '1150', '1320', '1265', '24645', '1285', '1380', '1125', '1385', '1345', '3715', '1395', '1330', '1035', '1245', '1270', '59100', '1485', '1165', '1815', '1195', '1245', '3970', '1225', '1290', '925', '1260', '1210', '71165', '1180', '1230', '1180', '1235', '1245', '3140', '1230', '1220', '1235', '1315', '1255', '46045', '1825', '1125', '1105', '1185', '1195', '2755', '1225', '1300', '1245', '995', '1275', '36340', '1965', '1155', '1125', '1135', '2220', '1195', '1180', '1165', '1265', '1200', '28855', '1405', '1240', '870', '1165', '1180', '2310', '1200', '1190', '925', '1230', '1250', '21870', '1235', '1245', '1560', '1325', '1385', '4640', '1355', '1320', '4000', '1360', '1315', '74385', '1270', '1255', '3030', '1195', '1235', '4455', '1190', '1155', '2690'], 'Priority': ['1', '2', '1', '1', '2', '1', '1', '2', '1', '1', '2', '1', '1', '2', '1', '1', '1', '1', '1', '1', '1', '1', '1', '1', '1', '1', '1', '1', '1', '1', '1', '1', '1', '1', '1', '1', '1', '1', '1', '1', '1', '1', '1', '1', '1', '1', '1', '1', '1', '1', '1', '1', '1', '1', '1', '1', '1', '1', '1', '1', '1', '1', '1', '1', '1', '1', '1', '1', '1', '1', '1', '1', '1', '1', '1', '1', '1', '1', '1', '1', '1', '2', '1', '1', '1', '2', '1', '2', '1', '1', '1', '2', '1', '2', '1', '1', '1', '2', '1', '2', '1', '1', '1', '2', '1', '2', '1', '1', '1', '2', '1', '2', '1', '1', '1', '2', '1', '2', '1', '1', '1', '2', '1', '2', '1', '1', '1', '2', '1', '2', '1', '1', '1', '2', '1', '2', '1', '1', '1', '2', '1', '2', '1', '1', '1', '2', '1', '2', '1', '1', '1', '2', '1', '2', '1', '1', '1', '2', '1', '2', '1', '1', '1', '2', '1', '2', '1', '1', '1', '2', '1', '2', '1', '1', '1', '2', '1', '2', '1', '1', '1', '2', '1', '2', '1', '1', '1', '2', '1', '2', '1', '1', '1', '2', '1', '2', '1', '1', '1', '2', '1', '2', '1', '1', '1', '2', '1', '2', '1', '1', '1', '2', '1', '2', '1', '1', '1', '2', '1', '2', '1', '1', '1', '2', '1', '2', '1', '1', '1', '2', '1', '2', '1', '1', '1', '2', '1', '2', '1', '1', '1', '2', '1', '2', '1', '1', '1', '2', '1', '2', '1', '1', '1', '2', '1', '2', '1', '1', '1', '2', '1', '2', '1', '1', '1', '2', '1', '2', '1', '1', '1', '2', '1', '2', '1', '1', '1', '2', '1', '2', '1', '1', '1', '2', '1', '2', '1', '1', '1', '2', '1', '2', '1', '1', '1', '2', '1', '2', '1', '1', '1', '2', '1', '2', '1', '1', '1', '2', '1', '2', '1', '1', '1', '2', '1', '2', '1', '1', '1', '2', '1', '2', '1', '1', '1', '2', '1', '2', '1', '1', '1', '2', '1', '2', '1', '1', '1', '2', '1', '2', '1', '1', '1', '2', '1', '2', '1', '1', '1', '2', '1', '2', '1', '1', '1', '2', '1', '2', '1', '1', '1', '2', '1', '2', '1', '1', '1', '2', '1', '2', '1', '1', '1', '2', '1', '2', '1', '1', '1', '2', '1', '2', '1', '1', '1', '2', '1', '2', '1', '1', '1', '2', '1', '2', '1', '1', '1', '2', '1', '2', '1', '1', '1', '2', '1', '2', '1', '1', '1', '2', '1', '2', '1', '1', '1', '2', '1', '2', '1', '1', '1', '2', '1', '2', '1', '1', '1', '2', '1', '2', '1', '1', '1', '2', '1', '2', '1', '1', '1', '2', '1', '2', '1', '1', '1', '2', '1', '2', '1', '1', '1', '2', '1', '2', '1', '1', '1', '2', '1', '2', '1', '1', '1', '2', '1', '2', '1', '1', '1', '2', '2', '1', '1', '2', '1', '1', '2', '1', '1', '1', '2', '2', '1', '1', '2', '1', '1', '2', '1', '1', '2', '1', '1', '2', '1', '1', '2', '1', '1', '2', '1', '1', '2', '1', '1', '2', '1', '1', '2', '1', '1', '2', '1', '1', '2', '1', '1', '2', '1', '1', '2', '1', '1', '2', '1', '1', '2', '1', '1', '2', '1', '1', '2', '1', '1', '1', '2', '1', '2', '1', '1', '2', '1', '1', '2', '1', '1', '2', '1', '2', '1', '1', '2', '1', '1', '2', '1', '1', '2', '1', '1', '2', '1', '1', '2', '1', '1', '2', '1', '1', '2', '1', '1', '2', '1', '1', '2', '1', '1', '2', '1', '1', '2', '1', '1', '1', '2', '1', '2', '1', '1', '2', '1', '1', '2', '1', '1', '2', '1', '1', '1', '2', '1', '2', '1', '1', '2', '1', '1', '2', '1', '1', '1', '2', '2', '1', '1', '2', '1', '1', '2', '1', '1', '2', '1', '1', '2', '1', '1', '2', '1', '1', '2', '1', '1', '2', '1', '1', '2', '1', '1', '2', '1', '1', '2', '1', '1', '2', '1', '1', '2', '1', '1', '2', '1', '1', '2', '1', '1', '2', '1', '1', '2', '1', '1', '2', '1', '1', '2', '1', '1', '2', '1', '1', '2', '1', '1', '2', '1', '2', '1', '1', '2', '1', '1', '2', '1', '1', '2', '1', '1', '2', '1', '1', '2', '1', '1', '2', '1', '1', '2', '1', '1', '2', '1', '1', '2', '1', '1', '2', '1', '1', '2', '1', '1', '2', '1', '1', '2', '1', '1', '2', '1', '1', '2', '1', '1', '2', '1', '1', '2', '1', '1', '1', '2', '1', '1', '2', '1', '2', '1', '1', '2', '1', '2', '1', '1', '2', '1', '1', '2', '1', '1', '2', '1', '1', '2', '1', '1', '2', '1', '1', '2', '1', '1', '2', '1', '1', '2', '1', '1', '2', '1', '1', '2', '1', '1', '2', '1', '1', '2', '1', '1', '1', '1', '2', '2', '1', '1', '2', '1', '1', '2', '1', '1', '2', '1', '1', '1', '2', '1', '2', '1', '1', '2', '1', '1', '1', '2', '1', '1', '2', '2', '1', '1', '2', '1', '1', '2', '1', '1', '2', '1', '1', '1', '2', '1', '2', '1', '1', '2', '1', '1', '2', '1', '1', '2', '1', '1', '2', '1', '1', '2', '1', '1', '2', '1', '1', '2', '1', '1', '2', '1', '1', '2', '1', '1', '2', '1', '1', '2', '1', '1', '2', '1', '1', '2', '1', '1', '1', '2', '1', '1', '2', '1', '2', '1', '2', '1', '1', '2', '1', '1', '2', '1', '1', '2', '1', '1', '2', '1', '1', '2', '1', '1', '2', '1', '1', '2', '1', '1', '2', '1', '1', '2', '1', '1', '2', '1', '1', '2', '1', '1', '2', '1', '1', '2', '1', '1', '2', '1', '1', '2', '1', '1', '2', '1', '1', '2', '1', '1', '1', '2', '1', '2', '1', '1', '1', '2', '1', '2', '1', '2', '1', '1', '2', '1', '1', '2', '1', '1', '2', '1', '1', '2', '1', '1', '2', '1', '1', '2', '1', '1', '2', '1', '1', '2', '1', '1', '2', '1', '1', '2', '1', '1', '2', '1', '1', '2', '1', '1', '2', '1', '1', '2', '1', '1', '2', '1', '1', '2', '1', '1', '2', '1', '1', '2', '1', '1', '2', '1', '1', '1', '2', '1', '2', '1', '2', '1', '1', '2', '1', '1', '2', '1', '1', '2', '1', '1', '2', '1', '1', '2', '1', '1', '2', '1', '1', '2', '1', '1', '2', '1', '1', '2', '1', '1', '2', '1', '1', '2', '1', '1', '2', '1', '1', '2', '1', '1', '2', '1', '1', '2', '1', '1', '2', '1', '1', '2', '1', '1', '1', '2', '1', '2', '1', '1', '2', '1', '1', '2', '1', '1', '1', '1', '2', '1', '1', '2', '1', '1', '2', '1', '1', '2', '1', '1', '2', '1', '1', '2', '1', '1', '2', '1', '1', '2', '1', '1', '2', '1', '1', '2', '1', '1', '2', '1', '1', '2', '1', '1', '2', '1', '1', '2', '1', '1', '2', '1', '1', '2', '1', '1', '2', '1', '1', '1', '2', '1', '2', '1', '1', '2', '1', '1', '2', '1', '2', '1', '1', '2', '1', '1', '2', '1', '1', '2', '1', '1', '2', '1', '1', '2', '1', '1', '2', '1', '1', '2', '1', '1', '2', '1', '1', '2', '1', '1', '2', '1', '1', '2', '1', '1', '2', '1', '1', '1', '2', '1', '2', '1', '1', '2', '1', '1', '2', '1', '1', '2', '1', '1', '1', '2', '1', '1', '2', '1', '1', '2', '1', '2', '1', '2', '1', '1', '2', '1', '1', '2', '1', '1', '2', '1', '1', '2', '1', '1', '2', '1', '1', '2', '1', '1', '2', '1', '1', '2', '1', '1', '2', '1', '1', '2', '1', '1', '2', '1', '1', '2', '1', '1', '2', '1', '1', '2', '1', '1', '2', '1', '1', '2', '1', '1', '1', '2', '1', '2', '1', '1', '1', '2', '1', '2', '1', '1', '2', '1', '2', '1', '1', '2', '1', '1', '2', '1', '1', '2', '1', '1', '2', '1', '1', '2', '1', '1', '2', '1', '1', '2', '1', '1', '2', '1', '1', '2', '1', '1', '2', '1', '1', '2', '1', '1', '2', '1', '1', '2', '1', '1', '2', '1', '1', '2', '1', '1', '2', '1', '1', '2', '1', '1', '1', '2', '1', '2', '1', '1', '2', '1', '1', '1', '2', '1', '2', '1', '2', '1', '1', '2', '1', '1', '2', '1', '1', '2', '1', '1', '2', '1', '1', '2', '1', '1', '1', '2', '1', '2', '1', '1', '2', '1', '1', '2', '1', '1', '2', '1', '1', '2', '1', '1', '2', '1', '1', '2', '1', '1', '2', '1', '1', '2', '1', '1', '2', '1', '1', '2', '1', '1', '2', '1', '1', '2', '1', '1', '1', '2', '1', '2', '1', '2', '1', '1', '2', '1', '1', '2', '1', '1', '2', '1', '1', '2', '1', '1', '2', '1', '1', '2', '1', '1', '2', '1', '1', '2', '1', '1', '2', '1', '1', '2', '1', '1', '2', '1', '1', '2', '1', '1', '2', '1', '1', '2', '1', '1', '2', '1', '1', '2', '1', '1', '2', '1', '1', '2', '1', '1', '2', '1', '1', '1', '2', '1', '2', '1', '2', '1', '1', '2', '1', '1', '2', '1', '1', '2', '1', '1', '2', '1', '1', '2', '1', '1', '2', '1', '1', '2', '1', '1', '2', '1', '1', '2', '1', '1', '2', '1', '1', '2', '1', '1', '2', '1', '1', '2', '1', '1', '2'], 'Deadline': ['200', '200', '200', '200', '200', '200', '200', '200', '200', '200', '200', '200', '200', '200', '200', '200', '200', '200', '200', '200', '200', '200', '200', '200', '200', '200', '200', '200', '200', '200', '200', '200', '200', '200', '200', '200', '200', '200', '200', '200', '200', '200', '200', '200', '200', '200', '200', '200', '200', '200', '200', '200', '200', '200', '200', '200', '200', '200', '200', '200', '200', '200', '200', '200', '200', '200', '200', '200', '200', '200', '200', '200', '200', '200', '200', '200', '200', '200', '200', '200', '200', '200', '200', '200', '200', '200', '200', '200', '200', '200', '200', '200', '200', '200', '200', '200', '200', '200', '200', '200', '200', '200', '200', '200', '200', '200', '200', '200', '200', '200', '200', '200', '200', '200', '200', '200', '200', '200', '200', '200', '200', '200', '200', '200', '200', '200', '200', '200', '200', '200', '200', '200', '200', '200', '200', '200', '200', '200', '200', '200', '200', '200', '200', '200', '200', '200', '200', '200', '200', '200', '200', '200', '200', '200', '200', '200', '200', '200', '200', '200', '200', '200', '200', '200', '200', '200', '200', '200', '200', '200', '200', '200', '200', '200', '200', '200', '200', '200', '200', '200', '200', '200', '200', '200', '200', '200', '200', '200', '200', '200', '200', '200', '200', '200', '200', '200', '200', '200', '200', '200', '200', '200', '200', '200', '200', '200', '200', '200', '200', '200', '200', '200', '200', '200', '200', '200', '200', '200', '200', '200', '200', '200', '200', '200', '200', '200', '200', '200', '200', '200', '200', '200', '200', '200', '200', '200', '200', '200', '200', '200', '200', '200', '200', '200', '200', '200', '200', '200', '200', '200', '200', '200', '200', '200', '200', '200', '200', '200', '200', '200', '200', '200', '200', '200', '200', '200', '200', '200', '200', '200', '200', '200', '200', '200', '200', '200', '200', '200', '200', '200', '200', '200', '200', '200', '200', '200', '200', '200', '200', '200', '200', '200', '200', '200', '200', '200', '200', '200', '200', '200', '200', '200', '200', '200', '200', '200', '200', '200', '200', '200', '200', '200', '200', '200', '200', '200', '200', '200', '200', '200', '200', '200', '200', '200', '200', '200', '200', '200', '200', '200', '200', '200', '200', '200', '200', '200', '200', '200', '200', '200', '200', '200', '200', '200', '200', '200', '200', '200', '200', '200', '200', '200', '200', '200', '200', '200', '200', '200', '200', '200', '200', '200', '200', '200', '200', '200', '200', '200', '200', '200', '200', '200', '200', '200', '200', '200', '200', '200', '200', '200', '200', '200', '200', '200', '200', '200', '200', '200', '200', '200', '200', '200', '200', '200', '200', '200', '200', '200', '200', '200', '200', '200', '200', '200', '200', '200', '200', '200', '200', '200', '200', '200', '200', '200', '200', '200', '200', '200', '200', '200', '200', '200', '200', '200', '200', '200', '200', '200', '200', '200', '200', '200', '200', '200', '200', '200', '200', '200', '200', '200', '200', '200', '200', '200', '200', '200', '200', '200', '200', '200', '200', '200', '200', '200', '200', '200', '200', '200', '200', '200', '200', '200', '200', '200', '200', '200', '200', '200', '200', '200', '200', '200', '200', '200', '200', '200', '200', '200', '200', '200', '200', '200', '200', '200', '200', '200', '200', '200', '200', '200', '200', '200', '200', '200', '200', '200', '200', '200', '200', '200', '200', '200', '200', '200', '200', '200', '200', '200', '200', '200', '200', '200', '200', '200', '200', '200', '200', '200', '200', '200', '200', '200', '200', '200', '200', '200', '200', '200', '200', '200', '200', '200', '200', '200', '200', '200', '200', '200', '200', '200', '200', '200', '200', '200', '200', '200', '200', '200', '200', '200', '200', '200', '200', '200', '200', '200', '200', '200', '200', '200', '200', '200', '200', '200', '200', '200', '200', '200', '200', '200', '200', '200', '200', '200', '200', '200', '200', '200', '200', '200', '200', '200', '200', '200', '200', '200', '200', '200', '200', '200', '200', '200', '200', '200', '200', '200', '200', '200', '200', '200', '200', '200', '200', '200', '200', '200', '200', '200', '200', '200', '200', '200', '200', '200', '200', '200', '200', '200', '200', '200', '200', '200', '200', '200', '200', '200', '200', '200', '200', '200', '200', '200', '200', '200', '200', '200', '200', '200', '200', '200', '200', '200', '200', '200', '200', '200', '200', '200', '200', '200', '200', '200', '200', '200', '200', '200', '200', '200', '200', '200', '200', '200', '200', '200', '200', '200', '200', '200', '200', '200', '200', '200', '200', '200', '200', '200', '200', '200', '200', '200', '200', '200', '200', '200', '200', '200', '200', '200', '200', '200', '200', '200', '200', '200', '200', '200', '200', '200', '200', '200', '200', '200', '200', '200', '200', '200', '200', '200', '200', '200', '200', '200', '200', '200', '200', '200', '200', '200', '200', '200', '200', '200', '200', '200', '200', '200', '200', '200', '200', '200', '200', '200', '200', '200', '200', '200', '200', '200', '200', '200', '200', '200', '200', '200', '200', '200', '200', '200', '200', '200', '200', '200', '200', '200', '200', '200', '200', '200', '200', '200', '200', '200', '200', '200', '200', '200', '200', '200', '200', '200', '200', '200', '200', '200', '200', '200', '200', '200', '200', '200', '200', '200', '200', '200', '200', '200', '200', '200', '200', '200', '200', '200', '200', '200', '200', '200', '200', '200', '200', '200', '200', '200', '200', '200', '200', '200', '200', '200', '200', '200', '200', '200', '200', '200', '200', '200', '200', '200', '200', '200', '200', '200', '200', '200', '200', '200', '200', '200', '200', '200', '200', '200', '200', '200', '200', '200', '200', '200', '200', '200', '200', '200', '200', '200', '200', '200', '200', '200', '200', '200', '200', '200', '200', '200', '200', '200', '200', '200', '200', '200', '200', '200', '200', '200', '200', '200', '200', '200', '200', '200', '200', '200', '200', '200', '200', '200', '200', '200', '200', '200', '200', '200', '200', '200', '200', '200', '200', '200', '200', '200', '200', '200', '200', '200', '200', '200', '200', '200', '200', '200', '200', '200', '200', '200', '200', '200', '200', '200', '200', '200', '200', '200', '200', '200', '200', '200', '200', '200', '200', '200', '200', '200', '200', '200', '200', '200', '200', '200', '200', '200', '200', '200', '200', '200', '200', '200', '200', '200', '200', '200', '200', '200', '200', '200', '200', '200', '200', '200', '200', '200', '200', '200', '200', '200', '200', '200', '200', '200', '200', '200', '200', '200', '200', '200', '200', '200', '200', '200', '200', '200', '200', '200', '200', '200', '200', '200', '200', '200', '200', '200', '200', '200', '200', '200', '200', '200', '200', '200', '200', '200', '200', '200', '200', '200', '200', '200', '200', '200', '200', '200', '200', '200', '200', '200', '200', '200', '200', '200', '200', '200', '200', '200', '200', '200', '200', '200', '200', '200', '200', '200', '200', '200', '200', '200', '200', '200', '200', '200', '200', '200', '200', '200', '200', '200', '200', '200', '200', '200', '200', '200', '200', '200', '200', '200', '200', '200', '200', '200', '200', '200', '200', '200', '200', '200', '200', '200', '200', '200', '200', '200', '200', '200', '200', '200', '200', '200', '200', '200', '200', '200', '200', '200', '200', '200', '200', '200', '200', '200', '200', '200', '200', '200', '200', '200', '200', '200', '200', '200', '200', '200', '200', '200', '200', '200', '200', '200', '200', '200', '200', '200', '200', '200', '200', '200', '200', '200', '200', '200', '200', '200', '200', '200', '200', '200', '200', '200', '200', '200', '200', '200', '200', '200', '200', '200', '200', '200', '200', '200', '200', '200', '200', '200', '200', '200', '200', '200', '200', '200', '200', '200', '200', '200', '200', '200', '200', '200', '200', '200', '200', '200', '200', '200', '200', '200', '200', '200', '200', '200', '200', '200', '200', '200', '200', '200', '200', '200', '200', '200', '200', '200', '200', '200', '200', '200', '200', '200', '200', '200', '200', '200', '200', '200', '200', '200', '200', '200', '200', '200', '200', '200', '200', '200', '200', '200', '200', '200', '200', '200', '200', '200', '200', '200', '200', '200', '200', '200', '200', '200', '200', '200', '200', '200', '200', '200', '200', '200', '200', '200', '200', '200', '200', '200', '200', '200', '200', '200', '200', '200', '200', '200', '200', '200', '200', '200', '200', '200', '200', '200', '200', '200', '200', '200', '200', '200', '200', '200', '200', '200', '200', '200', '200', '200', '200', '200', '200', '200', '200', '200', '200', '200', '200', '200', '200', '200', '200', '200', '200', '200', '200', '200', '200', '200', '200', '200', '200', '200', '200', '200', '200', '200', '200', '200', '200', '200', '200', '200', '200', '200', '200', '200', '200', '200', '200', '200', '200', '200', '200', '200', '200', '200', '200', '200', '200', '200', '200', '200', '200', '200', '200', '200', '200', '200', '200', '200', '200', '200', '200', '200', '200', '200', '200', '200', '200', '200', '200', '200', '200', '200', '200', '200', '200', '200', '200', '200', '200', '200', '200', '200', '200', '200', '200', '200', '200', '200', '200', '200', '200', '200', '200', '200', '200', '200', '200', '200', '200', '200', '200', '200', '200', '200', '200', '200', '200', '200', '200', '200', '200', '200', '200', '200', '200', '200', '200', '200', '200', '200', '200', '200', '200', '200', '200', '200', '200', '200', '200', '200', '200', '200', '200', '200', '200', '200', '200', '200', '200', '200', '200', '200', '200', '200', '200', '200', '200', '200', '200', '200', '200', '200', '200', '200', '200', '200', '200', '200', '200', '200', '200', '200', '200', '200', '200', '200', '200', '200', '200', '200', '200', '200', '200', '200', '200', '200', '200', '200', '200', '200', '200', '200', '200', '200', '200', '200', '200', '200', '200', '200', '200', '200', '200', '200', '200', '200', '200', '200', '200', '200', '200', '200', '200', '200', '200', '200', '200', '200', '200', '200', '200', '200', '200', '200', '200', '200', '200', '200', '200', '200', '200', '200', '200', '200', '200', '200', '200', '200', '200', '200', '200', '200', '200', '200', '200', '200', '200', '200', '200', '200', '200', '200', '200', '200', '200', '200', '200', '200', '200', '200', '200', '200']}\n"
     ]
    }
   ],
   "source": [
    "client_blocks_dict, client_stat_dict=parse_client_log('.')\n",
    "print( client_stat_dict,client_blocks_dict)"
   ]
  },
  {
   "cell_type": "code",
   "execution_count": null,
   "id": "fb3f9370",
   "metadata": {},
   "outputs": [],
   "source": []
  },
  {
   "cell_type": "markdown",
   "id": "801d7721",
   "metadata": {},
   "source": [
    "## 读取aitrans_block.txt"
   ]
  },
  {
   "cell_type": "code",
   "execution_count": null,
   "id": "ae888f97",
   "metadata": {},
   "outputs": [],
   "source": []
  },
  {
   "cell_type": "markdown",
   "id": "2aeba0e0",
   "metadata": {},
   "source": [
    "# 写结果"
   ]
  },
  {
   "cell_type": "code",
   "execution_count": null,
   "id": "5b521958",
   "metadata": {},
   "outputs": [],
   "source": [
    "#def writeToLog(form,logPath,args:list):\n",
    "    \"\"\"\n",
    "    for the client.write the log\n",
    "    form:\n",
    "    1:\n",
    "    2:\n",
    "    3:\n",
    "    args:\n",
    "    as for 1:\n",
    "    as for 2:\n",
    "    as for 3:\n",
    "    \"\"\"\n",
    "#    with open(os.path.join(tmp_dir_path, 'aitrans_block.txt'), 'a') as f:\n",
    "#        f.write('%f    %d    %d    %d\\n' % (block_gap * i, 2147483647, block_size, 0))"
   ]
  },
  {
   "cell_type": "code",
   "execution_count": null,
   "id": "be71ef75",
   "metadata": {},
   "outputs": [],
   "source": []
  },
  {
   "cell_type": "markdown",
   "id": "bad21769",
   "metadata": {},
   "source": [
    "# 配置读取和生成"
   ]
  },
  {
   "cell_type": "markdown",
   "id": "f0dc9cb3",
   "metadata": {},
   "source": [
    "## 生成发送块配置\n",
    "## 需要config.json文件\n",
    "[\n",
    "    {\t\"dir_name\":\"test1\",\n",
    "\t    \"image_name\":\"dtptest\",\n",
    "\n",
    "\t \"block_trace\":\"./aitrans_block.txt\",\n",
    "        \"network_trace\":\"./net_trace/trace_7.txt\",\n",
    "\t        \"block_size\": 50,\n",
    "        \"block_num\": 5,\n",
    "        \"redundancy\": 0.0,\n",
    "        \"cc\": [\"reno\"],\n",
    "        \"bw\": 100,\n",
    "        \"rtt\": 40,\n",
    "        \"loss\": 0\n",
    "    }\n",
    "]"
   ]
  },
  {
   "cell_type": "code",
   "execution_count": 74,
   "id": "15fc7de6",
   "metadata": {},
   "outputs": [],
   "source": [
    "def generate_block_file(config: dict):\n",
    "    '''\n",
    "    generate block file with the config\n",
    "    '''\n",
    "\n",
    "    block_size = min(int(config['block_size']), MAX_BLOCK_SIZE)\n",
    "    if block_size <= 0:\n",
    "        block_size = MAX_DATAGRAM_SIZE\n",
    "    block_num = int(config['block_num'])\n",
    "    block_gap = 0.001\n",
    "    if config.get(\"block_gap\"):\n",
    "       block_gap = int(config[\"block_gap\"])\n",
    "    with open(os.path.join(tmp_dir_path, 'aitrans_block.txt'), 'w') as f:\n",
    "        for i in range(block_num):\n",
    "            f.write('%f    %d    %d    %d\\n' % (block_gap * i, 2147483647, block_size, 0))"
   ]
  },
  {
   "cell_type": "code",
   "execution_count": 76,
   "id": "8dd9e0db",
   "metadata": {},
   "outputs": [],
   "source": [
    "def generate_consistent_network_file(config):\n",
    "    '''\n",
    "    generate consistent network trace\n",
    "    example: 0, 1, 0.00001, 0.1 # @0 second, 1Mbps, loss rate=0.00001, 100ms latency\n",
    "    '''\n",
    "    with open(os.path.join(tmp_dir_path, 'traces.txt'), 'w') as f:\n",
    "        f.write('%d, %f, %f, %f' % (0, float(config['bw']), float(config['loss']), float(config['rtt']) / 2 / 1000))"
   ]
  },
  {
   "cell_type": "code",
   "execution_count": 65,
   "id": "5e2dc0fa",
   "metadata": {},
   "outputs": [],
   "source": [
    "def parse_config(filepath: str):\n",
    "    '''\n",
    "    Parse the given config file and return the json obj\n",
    "    '''\n",
    "    with open(filepath, 'r') as f:\n",
    "        return json.load(f)[0]"
   ]
  },
  {
   "cell_type": "code",
   "execution_count": 143,
   "id": "787f937f",
   "metadata": {},
   "outputs": [
    {
     "name": "stdout",
     "output_type": "stream",
     "text": [
      "{'dir_name': 'test1', 'image_name': 'dtptest', 'block_trace': './aitrans_block.txt', 'network_trace': './net_trace/trace_7.txt', 'block_size': 50, 'block_num': 5, 'redundancy': 0.0, 'cc': ['reno'], 'bw': 100, 'rtt': 40, 'loss': 0}\n",
      "\n",
      "0.000000    2147483647    50    0\n",
      "0.001000    2147483647    50    0\n",
      "0.002000    2147483647    50    0\n",
      "0.003000    2147483647    50    0\n",
      "0.004000    2147483647    50    0\n"
     ]
    },
    {
     "data": {
      "text/plain": [
       "0"
      ]
     },
     "execution_count": 143,
     "metadata": {},
     "output_type": "execute_result"
    }
   ],
   "source": [
    "conf=parse_config('./config.json')\n",
    "print(conf,end='\\n\\n')\n",
    "generate_block_file(conf)\n",
    "os.system(\"head aitrans_block.txt\")"
   ]
  },
  {
   "cell_type": "code",
   "execution_count": 121,
   "id": "deea05af",
   "metadata": {},
   "outputs": [],
   "source": [
    "def generate_consistent_network_file(config):\n",
    "    '''\n",
    "    generate consistent network trace\n",
    "    example: 0, 1, 0.00001, 0.1 # @0 second, 1Mbps, loss rate=0.00001, 100ms latency\n",
    "    '''\n",
    "    with open(os.path.join(tmp_dir_path, 'traces.txt'), 'w') as f:\n",
    "        f.write('%d, %f, %f, %f' % (0, float(config['bw']), float(config['loss']), float(config['rtt']) / 2 / 1000))\n",
    "\n",
    "def generate_redundancy_code_file(config):\n",
    "    with open(os.path.join(tmp_dir_path, 'redundant.cpp'), 'w') as f:\n",
    "        f.write( \\\n",
    "            '''\n",
    "            #include \"solution.hxx\"\n",
    "            float global_redundancy = {0};\n",
    "            '''.format(max(0.0, float(config['redundancy']))) \\\n",
    "        )"
   ]
  }
 ],
 "metadata": {
  "kernelspec": {
   "display_name": "Python 3 (ipykernel)",
   "language": "python",
   "name": "python3"
  },
  "language_info": {
   "codemirror_mode": {
    "name": "ipython",
    "version": 3
   },
   "file_extension": ".py",
   "mimetype": "text/x-python",
   "name": "python",
   "nbconvert_exporter": "python",
   "pygments_lexer": "ipython3",
   "version": "3.7.12"
  }
 },
 "nbformat": 4,
 "nbformat_minor": 5
}
